{
  "cells": [
    {
      "cell_type": "markdown",
      "metadata": {
        "id": "view-in-github",
        "colab_type": "text"
      },
      "source": [
        "<a href=\"https://colab.research.google.com/github/RohitPw1997/Python_Basic_Assignment/blob/main/Assignment_1.ipynb\" target=\"_parent\"><img src=\"https://colab.research.google.com/assets/colab-badge.svg\" alt=\"Open In Colab\"/></a>"
      ]
    },
    {
      "cell_type": "markdown",
      "id": "cebbe770-c22c-4095-a8fb-2665d06fb3b9",
      "metadata": {
        "jp-MarkdownHeadingCollapsed": true,
        "id": "cebbe770-c22c-4095-a8fb-2665d06fb3b9"
      },
      "source": [
        "# 1. Explain the key features of Python that make it a popular choice for programming."
      ]
    },
    {
      "cell_type": "markdown",
      "id": "28e96063-35c3-467b-9252-003e0ef6035b",
      "metadata": {
        "id": "28e96063-35c3-467b-9252-003e0ef6035b"
      },
      "source": [
        "### 1. Easy to Learn and Readable:\n",
        "    Python's syntax is designed to be intuitive and resemble plain English, which makes it beginner-friendly and easy to read.\n",
        "\n",
        "### 2. Interpreted Language:\n",
        "    Python is executed line-by-line, which allows for easy debugging and quick iteration during development.\n",
        "\n",
        "### 3. Cross-Platform Compatibility:\n",
        "    Python runs on many platforms, such as Windows, macOS, Linux, etc., making it versatile for different environments.\n",
        "\n",
        "### 4. Extensive Libraries and Frameworks:\n",
        "    Python has vast libraries (e.g., NumPy, Pandas, TensorFlow) that support various tasks like data analysis, web ###  development, and machine learning,\n",
        "    making it a go-to for diverse applications.\n",
        "\n",
        "### 5. Dynamically Typed:\n",
        "    don't need to declare variable types explicitly, which speeds up development but requires more attention to variable usage."
      ]
    },
    {
      "cell_type": "markdown",
      "id": "45cbb76f-8477-4122-a1f1-b048120e4b5b",
      "metadata": {
        "id": "45cbb76f-8477-4122-a1f1-b048120e4b5b"
      },
      "source": [
        "# 2. Describe the role of predefined keywords in Python and provide examples of how they are used in a program."
      ]
    },
    {
      "cell_type": "markdown",
      "id": "de86c45b-ff7d-4276-874b-f05bd1e6b093",
      "metadata": {
        "jp-MarkdownHeadingCollapsed": true,
        "id": "de86c45b-ff7d-4276-874b-f05bd1e6b093"
      },
      "source": [
        "### Predefine Keyword:-\n",
        "    Every language contains words and a set of rules that would make a sentence meaningful. Similarly, in Python programming language, there are a set\n",
        "    of predefined words, called Keywords which along with Identifiers will form meaningful sentences when used together.\n",
        "    Python keywords cannot be used as the names of variables, functions, and classes. Keywords are used to define the syntax of the coding. The keyword\n",
        "    cannot be used as an identifier, function, or variable name. All the keywords in Python are written in lowercase except True and False. There are\n",
        "    35 keywords in Python 3.11.like\n",
        "    and,or,not,if,elif,else,for,while,break,as,def,lambda,pass,return,TRUE,FALSE,try,with,assert,class,continue,del,except,finally,from,global,import\n",
        "    etc"
      ]
    },
    {
      "cell_type": "markdown",
      "id": "aa40fcc6-d928-40f1-9ac3-1f04e5d26284",
      "metadata": {
        "id": "aa40fcc6-d928-40f1-9ac3-1f04e5d26284"
      },
      "source": [
        "#### Example:- if, else, elif: Used in conditional statements."
      ]
    },
    {
      "cell_type": "code",
      "execution_count": null,
      "id": "5b2e34aa-9c60-435d-a9d3-f5724c54c1d3",
      "metadata": {
        "id": "5b2e34aa-9c60-435d-a9d3-f5724c54c1d3",
        "outputId": "7288b077-32a4-4f24-a9e4-17899bdf0f1d"
      },
      "outputs": [
        {
          "name": "stdout",
          "output_type": "stream",
          "text": [
            "Adult\n"
          ]
        }
      ],
      "source": [
        "# Code\n",
        "age = 20\n",
        "if age > 18:\n",
        "    print(\"Adult\")\n",
        "else:\n",
        "    print(\"Minor\")"
      ]
    },
    {
      "cell_type": "markdown",
      "id": "733b0026-01fd-4473-9220-0766ebba61d2",
      "metadata": {
        "id": "733b0026-01fd-4473-9220-0766ebba61d2"
      },
      "source": [
        "#### for, while: Loop constructs for iteration."
      ]
    },
    {
      "cell_type": "code",
      "execution_count": null,
      "id": "cfe82ed0-8f8e-42ea-b4da-e7c7ee671972",
      "metadata": {
        "id": "cfe82ed0-8f8e-42ea-b4da-e7c7ee671972",
        "outputId": "3dfecd5b-10d8-4563-b3eb-716a6ef4dd6c"
      },
      "outputs": [
        {
          "name": "stdout",
          "output_type": "stream",
          "text": [
            "0\n",
            "1\n",
            "2\n",
            "3\n",
            "4\n"
          ]
        }
      ],
      "source": [
        "for i in range(5):\n",
        "    print(i)"
      ]
    },
    {
      "cell_type": "markdown",
      "id": "bb89c562-6bbf-454a-a639-efb95706378e",
      "metadata": {
        "id": "bb89c562-6bbf-454a-a639-efb95706378e"
      },
      "source": [
        "#### def: Used to define functions."
      ]
    },
    {
      "cell_type": "code",
      "execution_count": null,
      "id": "81d98287-eb3c-4f13-9b3c-90d5744936e9",
      "metadata": {
        "id": "81d98287-eb3c-4f13-9b3c-90d5744936e9"
      },
      "outputs": [],
      "source": [
        "def greet():\n",
        "    print(\"Hello, World!\")"
      ]
    },
    {
      "cell_type": "raw",
      "id": "2f598314-db34-46e4-a32c-bcbe1c62db9e",
      "metadata": {
        "id": "2f598314-db34-46e4-a32c-bcbe1c62db9e"
      },
      "source": [
        "Note:- These are some keywords which are essential because they are the building blocks of Python programs. They provide structure and meaning to your code."
      ]
    },
    {
      "cell_type": "markdown",
      "id": "a53b2a39-e588-4584-a979-076692f201a7",
      "metadata": {
        "id": "a53b2a39-e588-4584-a979-076692f201a7"
      },
      "source": [
        "# 3. Compare and contrast mutable and immutable objects in Python with examples."
      ]
    },
    {
      "cell_type": "markdown",
      "id": "e77af3d2-e060-40c0-a5f2-8ac9be88db45",
      "metadata": {
        "jp-MarkdownHeadingCollapsed": true,
        "id": "e77af3d2-e060-40c0-a5f2-8ac9be88db45"
      },
      "source": [
        "### Mutable Objects:\n",
        "    These can be changed after creation. Examples include lists, dictionaries, and sets."
      ]
    },
    {
      "cell_type": "code",
      "execution_count": null,
      "id": "4e298efb-05b7-4ad3-b87a-986c8a06473a",
      "metadata": {
        "id": "4e298efb-05b7-4ad3-b87a-986c8a06473a",
        "outputId": "a39b17bd-b384-497b-883e-b11d20e2f3e3"
      },
      "outputs": [
        {
          "name": "stdout",
          "output_type": "stream",
          "text": [
            "[10, 2, 3]\n"
          ]
        }
      ],
      "source": [
        "my_list = [1, 2, 3]\n",
        "my_list[0] = 10  # This changes the list\n",
        "print(my_list)  # Output: [10, 2, 3]"
      ]
    },
    {
      "cell_type": "markdown",
      "id": "460d7e8b-ecb2-4870-a2be-91ceffb1f4db",
      "metadata": {
        "id": "460d7e8b-ecb2-4870-a2be-91ceffb1f4db"
      },
      "source": [
        "### Immutable Objects:\n",
        "    Once created, these cannot be modified. Examples include tuples, strings, and integers."
      ]
    },
    {
      "cell_type": "code",
      "execution_count": null,
      "id": "6a3b31d2-a40f-4b13-97ba-bd1d422df651",
      "metadata": {
        "id": "6a3b31d2-a40f-4b13-97ba-bd1d422df651",
        "outputId": "6fc01ba0-e71f-4aa0-fe8d-720d262c873c"
      },
      "outputs": [
        {
          "ename": "TypeError",
          "evalue": "'tuple' object does not support item assignment",
          "output_type": "error",
          "traceback": [
            "\u001b[1;31m---------------------------------------------------------------------------\u001b[0m",
            "\u001b[1;31mTypeError\u001b[0m                                 Traceback (most recent call last)",
            "Cell \u001b[1;32mIn[12], line 2\u001b[0m\n\u001b[0;32m      1\u001b[0m my_tuple \u001b[38;5;241m=\u001b[39m (\u001b[38;5;241m1\u001b[39m, \u001b[38;5;241m2\u001b[39m, \u001b[38;5;241m3\u001b[39m)\n\u001b[1;32m----> 2\u001b[0m my_tuple[\u001b[38;5;241m0\u001b[39m] \u001b[38;5;241m=\u001b[39m \u001b[38;5;241m10\u001b[39m  \u001b[38;5;66;03m# This will raise an error since tuples are immutable\u001b[39;00m\n\u001b[0;32m      3\u001b[0m \u001b[38;5;28mprint\u001b[39m(my_tuple)\n",
            "\u001b[1;31mTypeError\u001b[0m: 'tuple' object does not support item assignment"
          ]
        }
      ],
      "source": [
        "my_tuple = (1, 2, 3)\n",
        "my_tuple[0] = 10  # This will raise an error since tuples are immutable\n",
        "print(my_tuple)"
      ]
    },
    {
      "cell_type": "raw",
      "id": "75588c36-15b8-4e3a-911f-fd80e44912e8",
      "metadata": {
        "id": "75588c36-15b8-4e3a-911f-fd80e44912e8"
      },
      "source": [
        "here we can see in Immutable data or object we can not change value after assign(creation)"
      ]
    },
    {
      "cell_type": "markdown",
      "id": "f71647bb-77d2-4b98-842f-6b713fc07f4a",
      "metadata": {
        "id": "f71647bb-77d2-4b98-842f-6b713fc07f4a"
      },
      "source": [
        "# 4.Discuss the different types of operators in Python and provide examples of how they are used."
      ]
    },
    {
      "cell_type": "markdown",
      "id": "2a01a78b-dfcb-4fd0-a95a-4817d24c6e05",
      "metadata": {
        "jp-MarkdownHeadingCollapsed": true,
        "id": "2a01a78b-dfcb-4fd0-a95a-4817d24c6e05"
      },
      "source": [
        "### Operators are used to perform operations on variables and values.Python divides the operators in the following groups:\n",
        "    Arithmetic operators\n",
        "    Assignment operators\n",
        "    Comparison operators\n",
        "    Logical operators\n",
        "    Identity operators\n",
        "    Membership operators\n",
        "    Bitwise operators"
      ]
    },
    {
      "cell_type": "markdown",
      "id": "e6bdd3d5-260c-461c-9462-434020f22003",
      "metadata": {
        "jp-MarkdownHeadingCollapsed": true,
        "id": "e6bdd3d5-260c-461c-9462-434020f22003"
      },
      "source": [
        "#### Arithmetic Operators:\n",
        "    Used for basic mathematical operations.{+(Addition), -(Subtraction), *(Multiplication), /(Division),%(Modulus),**(Exponentiation), //(Floor division)}"
      ]
    },
    {
      "cell_type": "code",
      "execution_count": null,
      "id": "7eafde9b-e792-4881-a1b5-6d28f1d31ff0",
      "metadata": {
        "id": "7eafde9b-e792-4881-a1b5-6d28f1d31ff0",
        "outputId": "3d64bb24-e0e8-4078-eb17-1198f6be31e6"
      },
      "outputs": [
        {
          "name": "stdout",
          "output_type": "stream",
          "text": [
            "a is =  15\n",
            "b is =  20\n"
          ]
        }
      ],
      "source": [
        "a = 10 + 5  # Addition\n",
        "b = 10 * 2  # Multiplication\n",
        "print(\"a is = \", a) # print a after addtion which is 15\n",
        "print(\"b is = \", b) # print b after multiplication which is 20"
      ]
    },
    {
      "cell_type": "markdown",
      "id": "252708ad-60e8-44b7-92df-4ddae426cbb6",
      "metadata": {
        "id": "252708ad-60e8-44b7-92df-4ddae426cbb6"
      },
      "source": [
        "#### Assignment Operators:\n",
        "    Used to assign values to variables."
      ]
    },
    {
      "cell_type": "code",
      "execution_count": null,
      "id": "a9bcb31e-b487-4d63-b7e7-c696e620fc03",
      "metadata": {
        "id": "a9bcb31e-b487-4d63-b7e7-c696e620fc03",
        "outputId": "b359dd4e-5efb-4014-c63b-e6a84bc21664"
      },
      "outputs": [
        {
          "name": "stdout",
          "output_type": "stream",
          "text": [
            "8\n"
          ]
        }
      ],
      "source": [
        "x = 5\n",
        "x += 3  # Increment by 3\n",
        "print(x)"
      ]
    },
    {
      "cell_type": "markdown",
      "id": "c908fd6b-0241-419c-b7a7-ebcc1e52e105",
      "metadata": {
        "id": "c908fd6b-0241-419c-b7a7-ebcc1e52e105"
      },
      "source": [
        "#### Comparison Operators:\n",
        "    Used to compare values."
      ]
    },
    {
      "cell_type": "code",
      "execution_count": null,
      "id": "54f89c92-5a77-4d4a-880d-3af90570d653",
      "metadata": {
        "id": "54f89c92-5a77-4d4a-880d-3af90570d653",
        "outputId": "04dddad4-025f-4fec-a0f9-e87891e48bb8"
      },
      "outputs": [
        {
          "name": "stdout",
          "output_type": "stream",
          "text": [
            "True\n"
          ]
        }
      ],
      "source": [
        "if 10 > 5:\n",
        "    print(\"True\")"
      ]
    },
    {
      "cell_type": "markdown",
      "id": "18a592fc-1e50-47a1-82ff-5597e2e1c90d",
      "metadata": {
        "id": "18a592fc-1e50-47a1-82ff-5597e2e1c90d"
      },
      "source": [
        "#### Logical Operators:\n",
        "    Used to combine conditional statements."
      ]
    },
    {
      "cell_type": "code",
      "execution_count": null,
      "id": "b70ba262-f6f3-4dd2-a8d4-4b50b6adb0c6",
      "metadata": {
        "id": "b70ba262-f6f3-4dd2-a8d4-4b50b6adb0c6",
        "outputId": "4797c895-7034-4ce4-9d05-291c2113bb9b"
      },
      "outputs": [
        {
          "name": "stdout",
          "output_type": "stream",
          "text": [
            "Working Age\n"
          ]
        }
      ],
      "source": [
        "if age > 18 and age < 60:\n",
        "    print(\"Working Age\")"
      ]
    },
    {
      "cell_type": "markdown",
      "id": "39ff09b3-e200-498f-937d-19a00e5fba29",
      "metadata": {
        "id": "39ff09b3-e200-498f-937d-19a00e5fba29"
      },
      "source": [
        "#### Identity Operators:\n",
        "    dentity operators are used to compare the objects, not if they are equal, but if they are actually the same object, with the same memory location.(is, is not)"
      ]
    },
    {
      "cell_type": "markdown",
      "id": "cbb2423c-d6c0-49fa-a81a-0466a2c9aa76",
      "metadata": {
        "id": "cbb2423c-d6c0-49fa-a81a-0466a2c9aa76"
      },
      "source": [
        "#### is operator example:-"
      ]
    },
    {
      "cell_type": "code",
      "execution_count": null,
      "id": "b247ee03-02fa-4674-9176-1f716f677915",
      "metadata": {
        "id": "b247ee03-02fa-4674-9176-1f716f677915",
        "outputId": "5729828e-a390-42b9-e091-0c922775c588"
      },
      "outputs": [
        {
          "name": "stdout",
          "output_type": "stream",
          "text": [
            "True\n",
            "False\n"
          ]
        }
      ],
      "source": [
        "#Code\n",
        "x = [1, 2, 3]\n",
        "y = x  # y points to the same object as x\n",
        "z = [1, 2, 3]  # z is a different object but with the same value as x\n",
        "\n",
        "print(x is y)  # True, because y refers to the same object as x\n",
        "print(x is z)  # False, because x and z are different objects, even if they have the same content"
      ]
    },
    {
      "cell_type": "markdown",
      "id": "d48943c1-a8a8-446c-a2b6-817f0f2614ed",
      "metadata": {
        "id": "d48943c1-a8a8-446c-a2b6-817f0f2614ed"
      },
      "source": [
        "#### is not operator example:-"
      ]
    },
    {
      "cell_type": "code",
      "execution_count": null,
      "id": "514a3bd0-0781-4c3d-a81f-cd73f32df437",
      "metadata": {
        "id": "514a3bd0-0781-4c3d-a81f-cd73f32df437",
        "outputId": "297ff7c3-9c0f-465a-f892-94916433e151"
      },
      "outputs": [
        {
          "name": "stdout",
          "output_type": "stream",
          "text": [
            "True\n",
            "False\n"
          ]
        }
      ],
      "source": [
        "x = [1, 2, 3]\n",
        "y = [1, 2, 3]\n",
        "z = x\n",
        "\n",
        "print(x is not y)  # True, because x and y are different objects\n",
        "print(x is not z)  # False, because z refers to the same object as x"
      ]
    },
    {
      "cell_type": "markdown",
      "id": "4ef3865d-c6fb-479a-80ab-c4a76615bea0",
      "metadata": {
        "id": "4ef3865d-c6fb-479a-80ab-c4a76615bea0"
      },
      "source": [
        "#### Membership Operators:\n",
        "    Membership operators are used to test if a sequence is presented in an object (in, not in)."
      ]
    },
    {
      "cell_type": "markdown",
      "id": "255baf2d-2ba9-4469-931b-ebcb4250a023",
      "metadata": {
        "id": "255baf2d-2ba9-4469-931b-ebcb4250a023"
      },
      "source": [
        "#### in operator example:-"
      ]
    },
    {
      "cell_type": "code",
      "execution_count": null,
      "id": "28107609-fc94-43c2-b0b8-0958167fff5e",
      "metadata": {
        "id": "28107609-fc94-43c2-b0b8-0958167fff5e",
        "outputId": "b3545125-bb93-4671-9a4c-894ef30e8f22"
      },
      "outputs": [
        {
          "name": "stdout",
          "output_type": "stream",
          "text": [
            "True\n",
            "True\n"
          ]
        }
      ],
      "source": [
        "# Checking in a list\n",
        "numbers = [1, 2, 3, 4, 5]\n",
        "print(3 in numbers)  # True, because 3 is in the list\n",
        "\n",
        "# Checking in a string\n",
        "text = \"hello world\"\n",
        "print(\"hello\" in text)  # True, because \"hello\" is a substring of the text"
      ]
    },
    {
      "cell_type": "markdown",
      "id": "45b20472-9d9b-4d46-a953-982667d8bd05",
      "metadata": {
        "id": "45b20472-9d9b-4d46-a953-982667d8bd05"
      },
      "source": [
        "#### not in operator example:-"
      ]
    },
    {
      "cell_type": "code",
      "execution_count": null,
      "id": "766addfd-acf4-4495-ad31-b677e5ceb94e",
      "metadata": {
        "id": "766addfd-acf4-4495-ad31-b677e5ceb94e",
        "outputId": "9d2771eb-a5a5-494d-efc7-d62fc6dfe80f"
      },
      "outputs": [
        {
          "name": "stdout",
          "output_type": "stream",
          "text": [
            "True\n",
            "True\n"
          ]
        }
      ],
      "source": [
        "# Checking in a list\n",
        "numbers = [1, 2, 3, 4, 5]\n",
        "print(10 not in numbers)  # True, because 10 is not in the list\n",
        "\n",
        "# Checking in a string\n",
        "text = \"hello world\"\n",
        "print(\"bye\" not in text)  # True, because \"bye\" is not a substring of the text"
      ]
    },
    {
      "cell_type": "markdown",
      "id": "bcbdda67-8fcf-4c47-8f34-14fe8d8b76a7",
      "metadata": {
        "id": "bcbdda67-8fcf-4c47-8f34-14fe8d8b76a7"
      },
      "source": [
        "#### Bitwise Operators:\n",
        "    Operate on bits."
      ]
    },
    {
      "cell_type": "code",
      "execution_count": null,
      "id": "f8d0079e-8667-43b2-afba-bb937f345368",
      "metadata": {
        "id": "f8d0079e-8667-43b2-afba-bb937f345368",
        "outputId": "25e0f10a-8d9f-48f3-912b-40c950ca832d"
      },
      "outputs": [
        {
          "name": "stdout",
          "output_type": "stream",
          "text": [
            "12\n"
          ]
        }
      ],
      "source": [
        "a = 60 & 13  # Bitwise AND\n",
        "print(a)"
      ]
    },
    {
      "cell_type": "markdown",
      "id": "3b567770-af30-4ce0-b6f0-893c00270bd5",
      "metadata": {
        "id": "3b567770-af30-4ce0-b6f0-893c00270bd5"
      },
      "source": [
        "# 5. Explain the concept of type casting in Python with examples."
      ]
    },
    {
      "cell_type": "markdown",
      "id": "67c6dc38-5080-4b9a-bc92-606ac0c00b30",
      "metadata": {
        "jp-MarkdownHeadingCollapsed": true,
        "id": "67c6dc38-5080-4b9a-bc92-606ac0c00b30"
      },
      "source": [
        "### Type casting (or type conversion) is the process of converting a value from one data type to another. In programming, different data types (such as integers, floating-point numbers, strings, etc.) store values in distinct ways, and sometimes you need to convert between them to perform certain operations or handle data properly."
      ]
    },
    {
      "cell_type": "markdown",
      "id": "486ad441-04c3-45b6-9f4f-6000d34a7614",
      "metadata": {
        "id": "486ad441-04c3-45b6-9f4f-6000d34a7614"
      },
      "source": [
        "#### 1. Implicit Type Casting (Automatic)\n",
        "    This is done automatically by the compiler or interpreter without any user intervention.\n",
        "    It happens when one type of data is assigned to another type, and the system converts it for you.\n",
        "    Typically occurs when there’s no risk of data loss, such as converting an integer to a float."
      ]
    },
    {
      "cell_type": "code",
      "execution_count": null,
      "id": "d68b85c1-ed65-4b8c-9602-c15ba9b679e3",
      "metadata": {
        "id": "d68b85c1-ed65-4b8c-9602-c15ba9b679e3",
        "outputId": "84941d03-b1d6-45ee-fe45-5190e57fcb84"
      },
      "outputs": [
        {
          "name": "stdout",
          "output_type": "stream",
          "text": [
            "7.5\n"
          ]
        }
      ],
      "source": [
        "a = 5   # integer\n",
        "b = 2.5 # float\n",
        "c = a + b\n",
        "print(c)  # Output: 7.5"
      ]
    },
    {
      "cell_type": "raw",
      "id": "be3aa54b-bad7-4453-aeba-8fc9af2cbfff",
      "metadata": {
        "id": "be3aa54b-bad7-4453-aeba-8fc9af2cbfff"
      },
      "source": [
        "Note:- Here, a (integer) is implicitly converted to a float so the addition with b (float) can be performed."
      ]
    },
    {
      "cell_type": "markdown",
      "id": "1d3aa78e-7afa-4f6a-bd87-8d06301e2b16",
      "metadata": {
        "id": "1d3aa78e-7afa-4f6a-bd87-8d06301e2b16"
      },
      "source": [
        "#### 2. Explicit Type Casting (Manual)\n",
        "    The programmer explicitly converts the data type by using casting functions or operators.\n",
        "    This is necessary when automatic conversion doesn’t happen or when you want to enforce a specific type conversion.\n",
        "    Explicit type casting might lead to data loss, such as converting a float to an integer."
      ]
    },
    {
      "cell_type": "code",
      "execution_count": null,
      "id": "d1dcbc7a-e583-476f-b4b4-04eb30e30904",
      "metadata": {
        "id": "d1dcbc7a-e583-476f-b4b4-04eb30e30904",
        "outputId": "c2d3f7fa-1c2d-4c8a-f958-17b214568089"
      },
      "outputs": [
        {
          "name": "stdout",
          "output_type": "stream",
          "text": [
            "7\n"
          ]
        }
      ],
      "source": [
        "x = 7.9\n",
        "y = int(x)\n",
        "print(y)  # Output: 7 (the decimal part is truncated)"
      ]
    },
    {
      "cell_type": "markdown",
      "id": "7dc70c11-951d-4377-8e73-02c18f501155",
      "metadata": {
        "id": "7dc70c11-951d-4377-8e73-02c18f501155"
      },
      "source": [
        "#### Common Type Casting Functions (Python):\n",
        "    int(): Converts a value to an integer.\n",
        "    float(): Converts a value to a float.\n",
        "    str(): Converts a value to a string.\n",
        "    bool(): Converts a value to a boolean."
      ]
    },
    {
      "cell_type": "markdown",
      "id": "fe221e67-e6d2-490f-a44d-167cfb54ca3a",
      "metadata": {
        "id": "fe221e67-e6d2-490f-a44d-167cfb54ca3a"
      },
      "source": [
        "#### Key Points:\n",
        "    Implicit casting is safe but limited to situations where the conversion is straightforward.\n",
        "    Explicit casting gives more control but can result in loss of precision or data if done incorrectly."
      ]
    },
    {
      "cell_type": "markdown",
      "id": "b46ecb4a-e770-4074-a3b1-f8e2d6b9d511",
      "metadata": {
        "id": "b46ecb4a-e770-4074-a3b1-f8e2d6b9d511"
      },
      "source": [
        "# 6. How do conditional statements work in Python? Illustrate with examples."
      ]
    },
    {
      "cell_type": "markdown",
      "id": "0569da52-2c55-4dc5-a9bc-b89585cb28d0",
      "metadata": {
        "jp-MarkdownHeadingCollapsed": true,
        "id": "0569da52-2c55-4dc5-a9bc-b89585cb28d0"
      },
      "source": [
        "### Conditional statements in Python allow you to execute different blocks of code based on whether certain conditions are true or false. They control the flow of execution, enabling the program to make decisions.\n",
        "    Python primarily uses three types of conditional statements: if, elif, and else"
      ]
    },
    {
      "cell_type": "markdown",
      "id": "1ddfced4-94a8-43c4-be4e-9337573f7b64",
      "metadata": {
        "id": "1ddfced4-94a8-43c4-be4e-9337573f7b64"
      },
      "source": [
        "#### 1. if Statement\n",
        "    The if statement evaluates a condition (an expression that returns True or False). If the condition is True, the code block inside the if statement is executed. If the condition is False, the block is skipped."
      ]
    },
    {
      "cell_type": "markdown",
      "id": "deba85a6-8eeb-451a-bd3b-a6fa9197f8a9",
      "metadata": {
        "id": "deba85a6-8eeb-451a-bd3b-a6fa9197f8a9"
      },
      "source": [
        "##### Syntax:\n",
        "    if condition:\n",
        "    # code block"
      ]
    },
    {
      "cell_type": "markdown",
      "id": "dcf43d7a-1082-4f3c-ab89-989bfb229570",
      "metadata": {
        "id": "dcf43d7a-1082-4f3c-ab89-989bfb229570"
      },
      "source": [
        "##### Example Code of if"
      ]
    },
    {
      "cell_type": "code",
      "execution_count": null,
      "id": "673435c8-5671-4f90-bbc4-18f6f1eaa741",
      "metadata": {
        "id": "673435c8-5671-4f90-bbc4-18f6f1eaa741",
        "outputId": "6ea56463-b0b5-4431-cfd3-c0e37d4cbed6"
      },
      "outputs": [
        {
          "name": "stdout",
          "output_type": "stream",
          "text": [
            "You are eligible to vote.\n"
          ]
        }
      ],
      "source": [
        "age = 18\n",
        "if age >= 18:\n",
        "    print(\"You are eligible to vote.\")"
      ]
    },
    {
      "cell_type": "markdown",
      "id": "5e63d62a-d89c-473d-94ce-10dbea3ff46b",
      "metadata": {
        "id": "5e63d62a-d89c-473d-94ce-10dbea3ff46b"
      },
      "source": [
        "#### 2. else Statement\n",
        "    The else statement provides an alternative code block that runs if the condition in the if statement evaluates to False."
      ]
    },
    {
      "cell_type": "markdown",
      "id": "b6e4610b-5a37-4fd0-8416-1f526fb8c7be",
      "metadata": {
        "id": "b6e4610b-5a37-4fd0-8416-1f526fb8c7be"
      },
      "source": [
        "##### Syntax:\n",
        "    if condition:\n",
        "        # code block if condition is True\n",
        "    else:\n",
        "        # code block if condition is False"
      ]
    },
    {
      "cell_type": "markdown",
      "id": "a856614b-cb28-4460-8517-29745e58432b",
      "metadata": {
        "id": "a856614b-cb28-4460-8517-29745e58432b"
      },
      "source": [
        "##### Example Code of else"
      ]
    },
    {
      "cell_type": "code",
      "execution_count": null,
      "id": "356c5ba2-2782-43df-9f93-aaa8d439dd81",
      "metadata": {
        "id": "356c5ba2-2782-43df-9f93-aaa8d439dd81",
        "outputId": "69b0232b-9677-48f4-a21e-2ca19cb63a7d"
      },
      "outputs": [
        {
          "name": "stdout",
          "output_type": "stream",
          "text": [
            "You are not eligible to vote.\n"
          ]
        }
      ],
      "source": [
        "age = 16\n",
        "if age >= 18:\n",
        "    print(\"You are eligible to vote.\")\n",
        "else:\n",
        "    print(\"You are not eligible to vote.\")"
      ]
    },
    {
      "cell_type": "markdown",
      "id": "3a4a6ff2-a2fb-452d-b65e-68ef12ec2b56",
      "metadata": {
        "id": "3a4a6ff2-a2fb-452d-b65e-68ef12ec2b56"
      },
      "source": [
        "#### 3. elif Statement\n",
        "    The elif (short for \"else if\") statement allows you to check multiple conditions. It’s used when you want to test several conditions after the if statement. If the first if condition is False, it moves to the elif block."
      ]
    },
    {
      "cell_type": "markdown",
      "id": "b1dbfaa2-211f-47fd-a49b-79bbda8d2f5a",
      "metadata": {
        "id": "b1dbfaa2-211f-47fd-a49b-79bbda8d2f5a"
      },
      "source": [
        "##### Syntax:\n",
        "    if condition1:\n",
        "        # code block if condition1 is True\n",
        "    elif condition2:\n",
        "        # code block if condition2 is True\n",
        "    else:\n",
        "        # code block if none of the conditions are True"
      ]
    },
    {
      "cell_type": "markdown",
      "id": "2fe23478-f6b3-4fe3-91ba-0b88314d5dec",
      "metadata": {
        "id": "2fe23478-f6b3-4fe3-91ba-0b88314d5dec"
      },
      "source": [
        "##### Example Code of elif"
      ]
    },
    {
      "cell_type": "code",
      "execution_count": null,
      "id": "2e975269-7f48-43e4-9828-d890fad3563e",
      "metadata": {
        "id": "2e975269-7f48-43e4-9828-d890fad3563e",
        "outputId": "26365298-554c-4caf-b85f-dd9aa0ab9ab8"
      },
      "outputs": [
        {
          "name": "stdout",
          "output_type": "stream",
          "text": [
            "Grade: B\n"
          ]
        }
      ],
      "source": [
        "score = 85\n",
        "\n",
        "if score >= 90:\n",
        "    print(\"Grade: A\")\n",
        "elif score >= 80:\n",
        "    print(\"Grade: B\")\n",
        "elif score >= 70:\n",
        "    print(\"Grade: C\")\n",
        "else:\n",
        "    print(\"Grade: D\")"
      ]
    },
    {
      "cell_type": "markdown",
      "id": "b9fc91fa-c54d-4623-9d09-22e70be03857",
      "metadata": {
        "id": "b9fc91fa-c54d-4623-9d09-22e70be03857"
      },
      "source": [
        "#### 4. Nested if Statements\n",
        "    You can nest if statements within each other, meaning you can place one if statement inside another. This is useful for more complex decision-making processes."
      ]
    },
    {
      "cell_type": "markdown",
      "id": "9e278539-1365-4960-9b78-641f1309c03a",
      "metadata": {
        "id": "9e278539-1365-4960-9b78-641f1309c03a"
      },
      "source": [
        "##### Example code of Nasted if"
      ]
    },
    {
      "cell_type": "code",
      "execution_count": null,
      "id": "47d05757-72fe-4af2-a05b-9781019f4639",
      "metadata": {
        "id": "47d05757-72fe-4af2-a05b-9781019f4639",
        "outputId": "bf9109f5-c342-49a0-eeef-570192f4fc99"
      },
      "outputs": [
        {
          "name": "stdout",
          "output_type": "stream",
          "text": [
            "You are allowed to enter.\n"
          ]
        }
      ],
      "source": [
        "age = 20\n",
        "has_id = True\n",
        "\n",
        "if age >= 18:\n",
        "    if has_id:\n",
        "        print(\"You are allowed to enter.\")\n",
        "    else:\n",
        "        print(\"You need an ID to enter.\")\n",
        "else:\n",
        "    print(\"You are not old enough to enter.\")\n"
      ]
    },
    {
      "cell_type": "raw",
      "id": "b8322222-6e3e-41e1-bbde-1c0716101bda",
      "metadata": {
        "id": "b8322222-6e3e-41e1-bbde-1c0716101bda"
      },
      "source": [
        "Note:- Logical Operators in Conditional Statements.\n",
        "       Logical operators like and, or, and not can be used to combine conditions in if, elif, and else statements."
      ]
    },
    {
      "cell_type": "code",
      "execution_count": null,
      "id": "a3583ae4-490e-43d4-9197-667649a8d26f",
      "metadata": {
        "id": "a3583ae4-490e-43d4-9197-667649a8d26f",
        "outputId": "b8b23edb-0783-4c0f-b0c5-ce0f63073365"
      },
      "outputs": [
        {
          "name": "stdout",
          "output_type": "stream",
          "text": [
            "You can attend the concert.\n"
          ]
        }
      ],
      "source": [
        "# Example using and:\n",
        "\n",
        "age = 25\n",
        "has_ticket = True\n",
        "\n",
        "if age >= 18 and has_ticket:\n",
        "    print(\"You can attend the concert.\")\n",
        "else:\n",
        "    print(\"You cannot attend the concert.\")"
      ]
    },
    {
      "cell_type": "code",
      "execution_count": null,
      "id": "94aca46b-b282-4f7c-b7ca-acc953655457",
      "metadata": {
        "id": "94aca46b-b282-4f7c-b7ca-acc953655457",
        "outputId": "4d7e8acd-ecfc-4e9e-cded-dce0187bdb07"
      },
      "outputs": [
        {
          "name": "stdout",
          "output_type": "stream",
          "text": [
            "You can enter the event.\n"
          ]
        }
      ],
      "source": [
        "# Example using or:\n",
        "\n",
        "has_ticket = False\n",
        "has_vip_pass = True\n",
        "\n",
        "if has_ticket or has_vip_pass:\n",
        "    print(\"You can enter the event.\")\n",
        "else:\n",
        "    print(\"You cannot enter the event.\")"
      ]
    },
    {
      "cell_type": "markdown",
      "id": "5b1b0a42-7bb3-4fc2-8622-fc90f4097e12",
      "metadata": {
        "id": "5b1b0a42-7bb3-4fc2-8622-fc90f4097e12"
      },
      "source": [
        "#### Summary: as of my understanding\n",
        "    if: Executes a block of code if a condition is True.\n",
        "    else: Executes a block of code if the if condition is False.\n",
        "    elif: Adds additional conditions if the initial if is False.\n",
        "    Logical operators: like and, or, and not can be used to evaluate multiple conditions in a single statement.\n",
        "                       These constructs help in decision-making and controlling the flow of a program based on conditions."
      ]
    },
    {
      "cell_type": "markdown",
      "id": "75df3e0f-2ef5-4156-ba2d-b159426b78ec",
      "metadata": {
        "id": "75df3e0f-2ef5-4156-ba2d-b159426b78ec"
      },
      "source": [
        "# 7. Describe the different types of loops in Python and their use cases with examples."
      ]
    },
    {
      "cell_type": "markdown",
      "id": "f26e17db-a957-485c-b04f-d74f36e26816",
      "metadata": {
        "id": "f26e17db-a957-485c-b04f-d74f36e26816"
      },
      "source": [
        "### Python supports three main types of loops:\n",
        "    for, while, and nested loops. Each has specific use cases depending on the logic or structure of the code. Here's a breakdown of each loop type with examples:"
      ]
    },
    {
      "cell_type": "markdown",
      "id": "99cc73ed-c824-4fbd-8b56-22d4951b80b3",
      "metadata": {
        "id": "99cc73ed-c824-4fbd-8b56-22d4951b80b3"
      },
      "source": [
        "#### 1. for Loop\n",
        "    The for loop in Python is used for iterating over a sequence (like a list, tuple, string, or range). It repeats a block of code a specified number of times or for each item in a collection."
      ]
    },
    {
      "cell_type": "markdown",
      "id": "524e8314-2fdb-4c94-a6c5-399d2b2e2043",
      "metadata": {
        "id": "524e8314-2fdb-4c94-a6c5-399d2b2e2043"
      },
      "source": [
        "##### syntex\n",
        "    for variable in sequence:\n",
        "        # code block"
      ]
    },
    {
      "cell_type": "markdown",
      "id": "9ac7e42c-edb7-45d6-80c2-11e617b47cec",
      "metadata": {
        "id": "9ac7e42c-edb7-45d6-80c2-11e617b47cec"
      },
      "source": [
        "#### Use Cases:\n",
        "    When you need to iterate through a sequence (e.g., a list of numbers, characters in a string).\n",
        "    To execute code for a specific range of values."
      ]
    },
    {
      "cell_type": "code",
      "execution_count": null,
      "id": "a82e89ac-7d0a-4800-8bed-c0302bd55a8c",
      "metadata": {
        "id": "a82e89ac-7d0a-4800-8bed-c0302bd55a8c",
        "outputId": "fdd0be2f-d8a4-460c-adbf-6fff036a58b3"
      },
      "outputs": [
        {
          "name": "stdout",
          "output_type": "stream",
          "text": [
            "1\n",
            "2\n",
            "3\n",
            "4\n",
            "5\n",
            "Output using range():  1\n",
            "Output using range():  2\n",
            "Output using range():  3\n",
            "Output using range():  4\n",
            "Output using range():  5\n"
          ]
        }
      ],
      "source": [
        "# Iterating over a list\n",
        "numbers = [1, 2, 3, 4, 5]\n",
        "for num in numbers:\n",
        "    print(num)\n",
        "# Output:\n",
        "# 1\n",
        "# 2\n",
        "# 3\n",
        "# 4\n",
        "# 5\n",
        "# Using range() function\n",
        "for i in range(1, 6):  # 1 to 5 (range is non-inclusive of the upper limit)\n",
        "    print(\"Output using range(): \",i)\n",
        "\n"
      ]
    },
    {
      "cell_type": "markdown",
      "id": "41e3ef80-b572-4835-bb58-0f9968021d2e",
      "metadata": {
        "id": "41e3ef80-b572-4835-bb58-0f9968021d2e"
      },
      "source": [
        "#### 2. while Loop\n",
        "    The while loop executes a block of code as long as a condition is True. It is more flexible than a for loop but requires careful handling to avoid infinite loops."
      ]
    },
    {
      "cell_type": "markdown",
      "id": "f27271c7-9e0c-419b-bb62-951be8f5a462",
      "metadata": {
        "id": "f27271c7-9e0c-419b-bb62-951be8f5a462"
      },
      "source": [
        "#### Syntax:\n",
        "    while condition:\n",
        "        # code block"
      ]
    },
    {
      "cell_type": "markdown",
      "id": "bbb96b44-decd-474a-8f14-bd8b27f1c4b7",
      "metadata": {
        "id": "bbb96b44-decd-474a-8f14-bd8b27f1c4b7"
      },
      "source": [
        "#### Use Cases:\n",
        "    When you want to repeat a block of code indefinitely or until a specific condition is met.\n",
        "    Useful for indefinite iterations where the exact number of iterations is unknown."
      ]
    },
    {
      "cell_type": "code",
      "execution_count": null,
      "id": "1183b281-5abc-4585-82cd-a013c69b259c",
      "metadata": {
        "id": "1183b281-5abc-4585-82cd-a013c69b259c",
        "outputId": "74063a47-166c-4dbe-f820-17dcc73dc386"
      },
      "outputs": [
        {
          "name": "stdout",
          "output_type": "stream",
          "text": [
            "1\n",
            "2\n",
            "3\n",
            "4\n",
            "5\n"
          ]
        }
      ],
      "source": [
        "# Simple while loop\n",
        "counter = 1\n",
        "while counter <= 5:\n",
        "    print(counter)\n",
        "    counter += 1\n",
        "\n",
        "# Output:\n",
        "# 1\n",
        "# 2\n",
        "# 3\n",
        "# 4\n",
        "# 5\n"
      ]
    },
    {
      "cell_type": "markdown",
      "id": "6232bfad-88d8-4adc-95d0-d8036ef78b7c",
      "metadata": {
        "id": "6232bfad-88d8-4adc-95d0-d8036ef78b7c"
      },
      "source": [
        "#### 3. Nested Loops\n",
        "    A nested loop is a loop inside another loop. This can be either two for loops, a for and a while loop, or vice versa. The inner loop is executed completely for every iteration of the outer loop."
      ]
    },
    {
      "cell_type": "markdown",
      "id": "8ee681be-ca6e-425b-8c80-bc8ff1e49105",
      "metadata": {
        "id": "8ee681be-ca6e-425b-8c80-bc8ff1e49105"
      },
      "source": [
        "#### Syntax:\n",
        "    for variable1 in sequence1:\n",
        "        for variable2 in sequence2:\n",
        "            # inner code block"
      ]
    },
    {
      "cell_type": "markdown",
      "id": "77de98bf-7360-4edf-a913-4604c3266ca5",
      "metadata": {
        "id": "77de98bf-7360-4edf-a913-4604c3266ca5"
      },
      "source": [
        "#### Use Cases:\n",
        "    Useful when working with multi-dimensional data, such as matrices or grids.\n",
        "    Iterating through combinations of items."
      ]
    },
    {
      "cell_type": "code",
      "execution_count": null,
      "id": "a200e5b8-81d3-43e9-bbd0-dff9821d96cc",
      "metadata": {
        "id": "a200e5b8-81d3-43e9-bbd0-dff9821d96cc",
        "outputId": "aaa57278-1c72-45f0-858b-fd4564cb58f3"
      },
      "outputs": [
        {
          "name": "stdout",
          "output_type": "stream",
          "text": [
            "i=1, j=1\n",
            "i=1, j=2\n",
            "i=1, j=3\n",
            "i=2, j=1\n",
            "i=2, j=2\n",
            "i=2, j=3\n",
            "i=3, j=1\n",
            "i=3, j=2\n",
            "i=3, j=3\n"
          ]
        }
      ],
      "source": [
        "# Nested for loop example\n",
        "for i in range(1, 4):  # Outer loop\n",
        "    for j in range(1, 4):  # Inner loop\n",
        "        print(f\"i={i}, j={j}\")\n",
        "\n",
        "# Output:\n",
        "# i=1, j=1\n",
        "# i=1, j=2\n",
        "# i=1, j=3\n",
        "# i=2, j=1\n",
        "# i=2, j=2\n",
        "# i=2, j=3\n",
        "# i=3, j=1\n",
        "# i=3, j=2\n",
        "# i=3, j=3\n"
      ]
    },
    {
      "cell_type": "markdown",
      "id": "b186b759-c01a-4581-8454-fcdaad637bfa",
      "metadata": {
        "id": "b186b759-c01a-4581-8454-fcdaad637bfa"
      },
      "source": [
        "#### Note: - These are control statements often used in loops:\n",
        "                break: Exits the loop prematurely when a condition is met.\n",
        "                continue: Skips the rest of the loop’s body and moves on to the next iteration.\n",
        "                pass: Does nothing and is used as a placeholder."
      ]
    },
    {
      "cell_type": "code",
      "execution_count": null,
      "id": "9e7cd955-22c5-4997-a89d-c981910d6882",
      "metadata": {
        "id": "9e7cd955-22c5-4997-a89d-c981910d6882",
        "outputId": "310d0ac5-1957-45da-9b6a-b3bfc50c4a9a"
      },
      "outputs": [
        {
          "name": "stdout",
          "output_type": "stream",
          "text": [
            "1\n",
            "2\n",
            "3\n",
            "1\n",
            "2\n",
            "3\n",
            "5\n"
          ]
        }
      ],
      "source": [
        "# break statement example\n",
        "for i in range(1, 6):\n",
        "    if i == 4:\n",
        "        break\n",
        "    print(i)\n",
        "\n",
        "# Output: 1 2 3\n",
        "\n",
        "# continue statement example\n",
        "for i in range(1, 6):\n",
        "    if i == 4:\n",
        "        continue\n",
        "    print(i)\n",
        "\n",
        "# Output: 1 2 3 5\n"
      ]
    },
    {
      "cell_type": "markdown",
      "id": "52419a52-40d9-42e5-a34b-2ae88d1d2f1f",
      "metadata": {
        "id": "52419a52-40d9-42e5-a34b-2ae88d1d2f1f"
      },
      "source": [
        "#### Summary of Use Cases:\n",
        "        for loops are ideal for iterating over a fixed number of elements or a range.\n",
        "        while loops are best when the number of iterations is not known in advance and depends on a condition.\n",
        "        Nested loops are useful for handling more complex data structures like matrices."
      ]
    },
    {
      "cell_type": "code",
      "execution_count": null,
      "id": "ab70f012-dcee-4dea-9f9e-31fb6a560ecc",
      "metadata": {
        "id": "ab70f012-dcee-4dea-9f9e-31fb6a560ecc"
      },
      "outputs": [],
      "source": []
    },
    {
      "cell_type": "code",
      "execution_count": null,
      "id": "687f4936-6df7-4647-afaa-6fd0d63c3d39",
      "metadata": {
        "id": "687f4936-6df7-4647-afaa-6fd0d63c3d39"
      },
      "outputs": [],
      "source": []
    }
  ],
  "metadata": {
    "kernelspec": {
      "display_name": "Python 3 (ipykernel)",
      "language": "python",
      "name": "python3"
    },
    "language_info": {
      "codemirror_mode": {
        "name": "ipython",
        "version": 3
      },
      "file_extension": ".py",
      "mimetype": "text/x-python",
      "name": "python",
      "nbconvert_exporter": "python",
      "pygments_lexer": "ipython3",
      "version": "3.11.7"
    },
    "colab": {
      "provenance": [],
      "include_colab_link": true
    }
  },
  "nbformat": 4,
  "nbformat_minor": 5
}